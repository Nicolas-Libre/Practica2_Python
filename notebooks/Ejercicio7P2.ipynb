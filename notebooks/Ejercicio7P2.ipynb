{
 "cells": [
  {
   "cell_type": "code",
   "execution_count": 2,
   "metadata": {},
   "outputs": [
    {
     "name": "stdout",
     "output_type": "stream",
     "text": [
      "4545454-2626262-C6I14DFVXFTFVXTO\n"
     ]
    }
   ],
   "source": [
    "import random\n",
    "import string\n",
    "usuario = (input('Ingrese su nombre de Usuario'))\n",
    "fecha = (input('Ingrese la fecha de hoy'))\n",
    "if '-' in fecha:\n",
    "    fecha = fecha.replace ('-','')\n",
    "cant = (30 - (len(usuario) + len(fecha)))\n",
    "final_part = (random.choices (string.ascii_uppercase + string.digits, k=cant ))\n",
    "codigo = (usuario + '-' + fecha + \"-\" +\"\".join (final_part))\n",
    "\n",
    "print(codigo)"
   ]
  },
  {
   "cell_type": "code",
   "execution_count": null,
   "metadata": {},
   "outputs": [],
   "source": []
  }
 ],
 "metadata": {
  "kernelspec": {
   "display_name": "Python 3",
   "language": "python",
   "name": "python3"
  },
  "language_info": {
   "codemirror_mode": {
    "name": "ipython",
    "version": 3
   },
   "file_extension": ".py",
   "mimetype": "text/x-python",
   "name": "python",
   "nbconvert_exporter": "python",
   "pygments_lexer": "ipython3",
   "version": "3.12.9"
  }
 },
 "nbformat": 4,
 "nbformat_minor": 2
}
