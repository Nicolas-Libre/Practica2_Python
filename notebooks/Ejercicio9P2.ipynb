{
 "cells": [
  {
   "cell_type": "code",
   "execution_count": 44,
   "metadata": {},
   "outputs": [
    {
     "name": "stdout",
     "output_type": "stream",
     "text": [
      "[' Ana López ', 'Pedro Gómez', 'maría martínez', 'Pedro Gómez ', '', ' Luis Rodríguez ', None, 'ana lópez', 'JUAN PÉREZ', 'MARTA SUÁREZ', 'luis rodríguez', 'maría martínez ', ' claudia torres', 'CLAUDIA TORRES', ' ', 'pedro gómez', 'Juan Pérez', None, 'Ricardo Fernández', 'LAURA RAMOS', 'carlos mendes', 'RICARDO FERNÁNDEZ ', ' Laura ramos', 'CARLOS MENDES', 'alejandro gonzález', ' ALEJANDRO GONZÁLEZ ', 'Patricia Vega', 'patricia VEGA', 'Andrés Ocampo', ' andrés ocampo', 'Monica Herrera', 'MONICA HERRERA ', 'gabriela ruíz', 'Gabriela Ruíz', 'sandra morales', 'SANDRA MORALES', 'miguel ángel', 'Miguel Ángel ', ' Damián Castillo', 'Damián Castillo ', None, '', ' ']\n"
     ]
    }
   ],
   "source": [
    "\n",
    "clients = [ \n",
    "    \" Ana López \", \"Pedro Gómez\", \"maría martínez\", \"Pedro Gómez \", \"\",\n",
    "\" Luis Rodríguez \", None, \"ana lópez\", \"JUAN PÉREZ\", \"MARTA SUÁREZ\",\n",
    "\"luis rodríguez\", \"maría martínez \", \" claudia torres\", \"CLAUDIA TORRES\",\n",
    "\" \", \"pedro gómez\", \"Juan Pérez\", None, \"Ricardo Fernández\", \"LAURA RAMOS\",\n",
    "\"carlos mendes\", \"RICARDO FERNÁNDEZ \", \" Laura ramos\", \"CARLOS MENDES\",\n",
    "\"alejandro gonzález\", \" ALEJANDRO GONZÁLEZ \", \"Patricia Vega\",\n",
    "\"patricia VEGA\", \"Andrés Ocampo\", \" andrés ocampo\", \"Monica Herrera\",\n",
    "\"MONICA HERRERA \", \"gabriela ruíz\", \"Gabriela Ruíz\", \"sandra morales\",\n",
    "\"SANDRA MORALES\", \"miguel ángel\", \"Miguel Ángel \", \" Damián Castillo\",\n",
    "\"Damián Castillo \", None, \"\", \" \"\n",
    "]\n",
    "\n",
    "\n",
    "\n",
    "final_list= len(clients) \n",
    "elem = \"\"\n",
    "\n",
    "i=0\n",
    "j=0\n",
    "print (clients)\n",
    "z = 0\n",
    "w = 0\n",
    "while i != final_list:\n",
    "    if clients[i] is None:\n",
    "        del clients[i]\n",
    "        final_list -= 1\n",
    "        i-=1\n",
    "    clients[i] = clients[i].strip()\n",
    "    if clients[i] =='':\n",
    "        del clients[i]\n",
    "        final_list -= 1\n",
    "        i-=1\n",
    "    i=  i + 1 \n",
    "\n",
    "while j != final_list:\n",
    "    elem = clients[j].lower()\n",
    "    z = j+1\n",
    "    while z != final_list:\n",
    "        if clients[z].lower() == elem:\n",
    "            del clients[z]\n",
    "            final_list -= 1\n",
    "            z-=1\n",
    "        z+=1\n",
    "    j+=1\n",
    "\n",
    "\n",
    "\n",
    "\n",
    "\n"
   ]
  },
  {
   "cell_type": "code",
   "execution_count": 45,
   "metadata": {},
   "outputs": [
    {
     "name": "stdout",
     "output_type": "stream",
     "text": [
      "['Ana López', 'Pedro Gómez', 'María Martínez', 'Luis Rodríguez', 'Juan Pérez', 'Marta Suárez', 'Claudia Torres', 'Ricardo Fernández', 'Laura Ramos', 'Carlos Mendes', 'Alejandro González', 'Patricia Vega', 'Andrés Ocampo', 'Monica Herrera', 'Gabriela Ruíz', 'Sandra Morales', 'Miguel Ángel', 'Damián Castillo']\n"
     ]
    }
   ],
   "source": [
    "\n",
    "for i in range(final_list):\n",
    "    clients[i] = clients[i].split()\n",
    "    clients[i][0] = clients[i][0].capitalize()\n",
    "    clients[i][1] = clients[i][1].capitalize()\n",
    "clients = [f'{nombre} {apellido}' for nombre, apellido in clients]\n",
    "\n",
    "\n",
    "print (clients)"
   ]
  }
 ],
 "metadata": {
  "kernelspec": {
   "display_name": "Python 3",
   "language": "python",
   "name": "python3"
  },
  "language_info": {
   "codemirror_mode": {
    "name": "ipython",
    "version": 3
   },
   "file_extension": ".py",
   "mimetype": "text/x-python",
   "name": "python",
   "nbconvert_exporter": "python",
   "pygments_lexer": "ipython3",
   "version": "3.12.9"
  }
 },
 "nbformat": 4,
 "nbformat_minor": 2
}
