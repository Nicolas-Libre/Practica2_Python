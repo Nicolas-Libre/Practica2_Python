{
 "cells": [
  {
   "cell_type": "code",
   "execution_count": 9,
   "metadata": {},
   "outputs": [
    {
     "name": "stdout",
     "output_type": "stream",
     "text": [
      "{'música': 4, 'charla': 2, 'entretenimiento': 1}\n"
     ]
    }
   ],
   "source": [
    "description = [\"Streaming de música en vivo con covers y composiciones\",\n",
    "\"Charla interactiva con la audiencia sobre series y películas\",\n",
    "\"Jugamos a juegos retro y charlamos sobre su historia\",\n",
    "\"Exploramos la mejor música de los 80s y 90s\",\n",
    "\"Programa de entretenimiento con noticias y curiosidades del mundo gamer\",\n",
    "\"Sesión de charla con invitados especiales del mundo del streaming\",\n",
    "\"Música en directo con improvisaciones y peticiones del chat\",\n",
    "\"Un espacio para charlar relajada sobre tecnología y cultura digital\",\n",
    "\"Exploramos el impacto de la música en los videojuegos clásicos\"\n",
    "\n",
    "]\n",
    "\n",
    "\n",
    "my_dic = {'música' : 0, 'charla' : 0, 'entretenimiento' : 0}\n",
    "\n",
    "for i in range (len(description)):\n",
    "    description[i] = description[i].lower()\n",
    "\n",
    "    if 'música' in description[i].split():\n",
    "        my_dic[\"música\"] +=  1\n",
    "    if 'charla' in description[i].split():\n",
    "        my_dic ['charla'] += 1\n",
    "    if 'entretenimiento' in description[i].split():\n",
    "        my_dic['entretenimiento'] += 1\n",
    "    \n",
    "\n",
    "\n",
    "print (my_dic)\n"
   ]
  },
  {
   "cell_type": "code",
   "execution_count": null,
   "metadata": {},
   "outputs": [],
   "source": []
  }
 ],
 "metadata": {
  "kernelspec": {
   "display_name": "Python 3",
   "language": "python",
   "name": "python3"
  },
  "language_info": {
   "codemirror_mode": {
    "name": "ipython",
    "version": 3
   },
   "file_extension": ".py",
   "mimetype": "text/x-python",
   "name": "python",
   "nbconvert_exporter": "python",
   "pygments_lexer": "ipython3",
   "version": "3.12.9"
  }
 },
 "nbformat": 4,
 "nbformat_minor": 2
}
