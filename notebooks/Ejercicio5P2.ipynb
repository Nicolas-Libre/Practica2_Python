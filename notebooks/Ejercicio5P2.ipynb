{
 "cells": [
  {
   "cell_type": "code",
   "execution_count": 9,
   "metadata": {},
   "outputs": [
    {
     "name": "stdout",
     "output_type": "stream",
     "text": [
      "Su velocidad es Rapida\n"
     ]
    }
   ],
   "source": [
    "reaction = (input(\"Ingrese su velocidad de reaccion en ms\"))\n",
    "fast = 200\n",
    "slow = 500\n",
    "if reaction.isdigit():\n",
    "    reaction = int(reaction)\n",
    "    if reaction < 200 :\n",
    "        print ('Su velocidad es Rapida')\n",
    "    elif reaction >=200 and reaction <= 500:\n",
    "        print ('Su velocidad es Normal')\n",
    "    else:\n",
    "        print ('Su velocidad es Lenta')\n",
    "else:\n",
    "    print ('Caracter invalido')\n",
    "\n",
    "\n"
   ]
  },
  {
   "cell_type": "code",
   "execution_count": null,
   "metadata": {},
   "outputs": [],
   "source": []
  }
 ],
 "metadata": {
  "kernelspec": {
   "display_name": "Python 3",
   "language": "python",
   "name": "python3"
  },
  "language_info": {
   "codemirror_mode": {
    "name": "ipython",
    "version": 3
   },
   "file_extension": ".py",
   "mimetype": "text/x-python",
   "name": "python",
   "nbconvert_exporter": "python",
   "pygments_lexer": "ipython3",
   "version": "3.12.9"
  }
 },
 "nbformat": 4,
 "nbformat_minor": 2
}
