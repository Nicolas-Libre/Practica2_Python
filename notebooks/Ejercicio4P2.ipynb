{
 "cells": [
  {
   "cell_type": "code",
   "execution_count": null,
   "metadata": {},
   "outputs": [],
   "source": [
    "requisitos = \"\"\"El nombre de Usuario debe tener:\n",
    "5 char,  \n",
    "Al menos un numero,\n",
    "Al menos una letra Mayuscula,\n",
    "Solo letras y nuemeros, \"\"\"\n",
    "\n",
    "valido = \"El nombre de usuario es valido\"\n",
    "no_valido = \"El nombre de usuario no es valido\"\n",
    "\n",
    "has_five= False\n",
    "has_upper= False\n",
    "has_number= False\n",
    "only_alnum= False\n"
   ]
  },
  {
   "cell_type": "code",
   "execution_count": null,
   "metadata": {},
   "outputs": [],
   "source": [
    "print (requisitos)\n",
    "print('')\n",
    "usuario = str(input(\"Ingrese un nombre de usuario\"))\n",
    "if len(usuario) >= 5:\n",
    "    has_five = True\n",
    "    if usuario.isupper(): \n",
    "            has_upper = True\n",
    "            for letter in usuario:\n",
    "                if usuario.isdigit():\n",
    "                    has_number = True\n",
    "                if usuario.isalnum():\n",
    "                    only_alnum = True\n",
    "        \n",
    "\n",
    "print (valido if has_five and has_upper and has_number and only_alnum else no_valido)\n",
    "\n",
    "print (f'tiene 5: {has_five}')\n",
    "print (f'tiene Mayus: {has_upper}')\n",
    "print (f'tiene numero: {has_number}')\n",
    "print (f'tiene alfanum: {only_alnum}')\n",
    "\n",
    "\n"
   ]
  }
 ],
 "metadata": {
  "kernelspec": {
   "display_name": "Python 3",
   "language": "python",
   "name": "python3"
  },
  "language_info": {
   "codemirror_mode": {
    "name": "ipython",
    "version": 3
   },
   "file_extension": ".py",
   "mimetype": "text/x-python",
   "name": "python",
   "nbconvert_exporter": "python",
   "pygments_lexer": "ipython3",
   "version": "3.12.9"
  }
 },
 "nbformat": 4,
 "nbformat_minor": 2
}
