{
 "cells": [
  {
   "cell_type": "code",
   "execution_count": 4,
   "metadata": {},
   "outputs": [
    {
     "name": "stdout",
     "output_type": "stream",
     "text": [
      "['l', 'o', 'l', 'o']\n",
      "['l', 'o', 'l', 'p']\n",
      "No son anagramas\n"
     ]
    }
   ],
   "source": [
    "palabra1 = input('Ingrese la primera palabra')\n",
    "palabra2 = input ('Ingrese la segunda palabra')\n",
    "ya_esta=0\n",
    "if len(palabra1) != len(palabra2):\n",
    "    print ('No son anagramas')\n",
    "    exit(1)\n",
    "else:\n",
    "    chars1 = list(palabra1)\n",
    "    chars2 = list(palabra2)\n",
    "    print (chars1)\n",
    "    print (chars2)\n",
    "    for i in range(len(palabra1)):\n",
    "        if chars1[i] in chars2:\n",
    "            ana=True\n",
    "        else:\n",
    "            ana=False\n",
    "            ya_esta=1\n",
    "            break\n",
    "    if ya_esta !=1:\n",
    "        for i in range(len(palabra2)):\n",
    "            if chars2[i] in chars1:\n",
    "                ana=True\n",
    "            else:\n",
    "                ana=False\n",
    "                break\n",
    "    if ana == True:\n",
    "        print ('Son anagramas')\n",
    "    else:\n",
    "        print ('No son anagramas')"
   ]
  },
  {
   "cell_type": "code",
   "execution_count": null,
   "metadata": {},
   "outputs": [],
   "source": []
  }
 ],
 "metadata": {
  "kernelspec": {
   "display_name": "Python 3",
   "language": "python",
   "name": "python3"
  },
  "language_info": {
   "codemirror_mode": {
    "name": "ipython",
    "version": 3
   },
   "file_extension": ".py",
   "mimetype": "text/x-python",
   "name": "python",
   "nbconvert_exporter": "python",
   "pygments_lexer": "ipython3",
   "version": "3.12.9"
  }
 },
 "nbformat": 4,
 "nbformat_minor": 2
}
